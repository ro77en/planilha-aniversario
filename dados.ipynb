{
 "cells": [
  {
   "cell_type": "markdown",
   "metadata": {},
   "source": [
    "# Geração da Planilha"
   ]
  },
  {
   "cell_type": "code",
   "execution_count": 4,
   "metadata": {},
   "outputs": [],
   "source": [
    "from faker import Faker\n",
    "from faker.providers.date_time import Provider\n",
    "import pandas as pd"
   ]
  },
  {
   "cell_type": "code",
   "execution_count": 20,
   "metadata": {},
   "outputs": [
    {
     "data": {
      "text/html": [
       "<div>\n",
       "<style scoped>\n",
       "    .dataframe tbody tr th:only-of-type {\n",
       "        vertical-align: middle;\n",
       "    }\n",
       "\n",
       "    .dataframe tbody tr th {\n",
       "        vertical-align: top;\n",
       "    }\n",
       "\n",
       "    .dataframe thead th {\n",
       "        text-align: right;\n",
       "    }\n",
       "</style>\n",
       "<table border=\"1\" class=\"dataframe\">\n",
       "  <thead>\n",
       "    <tr style=\"text-align: right;\">\n",
       "      <th></th>\n",
       "      <th>NOME</th>\n",
       "      <th>DATA</th>\n",
       "    </tr>\n",
       "  </thead>\n",
       "  <tbody>\n",
       "    <tr>\n",
       "      <th>0</th>\n",
       "      <td>Sophie Peixoto</td>\n",
       "      <td>1972-10-03</td>\n",
       "    </tr>\n",
       "    <tr>\n",
       "      <th>1</th>\n",
       "      <td>Luiz Gustavo Rodrigues</td>\n",
       "      <td>1997-07-22</td>\n",
       "    </tr>\n",
       "    <tr>\n",
       "      <th>2</th>\n",
       "      <td>Lucca Moraes</td>\n",
       "      <td>2009-09-13</td>\n",
       "    </tr>\n",
       "    <tr>\n",
       "      <th>3</th>\n",
       "      <td>Luiz Fernando Cunha</td>\n",
       "      <td>1989-03-07</td>\n",
       "    </tr>\n",
       "    <tr>\n",
       "      <th>4</th>\n",
       "      <td>Vitor Gabriel Castro</td>\n",
       "      <td>2012-01-30</td>\n",
       "    </tr>\n",
       "  </tbody>\n",
       "</table>\n",
       "</div>"
      ],
      "text/plain": [
       "                     NOME        DATA\n",
       "0          Sophie Peixoto  1972-10-03\n",
       "1  Luiz Gustavo Rodrigues  1997-07-22\n",
       "2            Lucca Moraes  2009-09-13\n",
       "3     Luiz Fernando Cunha  1989-03-07\n",
       "4    Vitor Gabriel Castro  2012-01-30"
      ]
     },
     "metadata": {},
     "output_type": "display_data"
    }
   ],
   "source": [
    "def gerar_dataframe(linhas):\n",
    "    \"\"\"\n",
    "    Gera um dicionário com nomes e datas de nascimento aleatórios e os transforma em um DataFrame\n",
    "\n",
    "    Parameters:\n",
    "    linhas (int): Número de linhas que o dataframe terá\n",
    "\n",
    "    Returns:\n",
    "    dataframe (DataFrame)\n",
    "    \"\"\"\n",
    "    Faker.seed(0)\n",
    "    fake = Faker('pt_BR')\n",
    "\n",
    "    planilha = {'NOME': [],\n",
    "                'DATA': []}\n",
    "\n",
    "    for _ in range(linhas):\n",
    "        nome = fake.name()\n",
    "        nasc = fake.date()\n",
    "        \n",
    "        planilha['NOME'].append(nome)\n",
    "        planilha['DATA'].append(nasc)\n",
    "    \n",
    "\n",
    "    df = pd.DataFrame(data=planilha)\n",
    "    return df\n",
    "\n",
    "df = gerar_dataframe(5)\n",
    "display(df)\n",
    "    "
   ]
  },
  {
   "cell_type": "code",
   "execution_count": null,
   "metadata": {},
   "outputs": [],
   "source": []
  }
 ],
 "metadata": {
  "kernelspec": {
   "display_name": "Python 3",
   "language": "python",
   "name": "python3"
  },
  "language_info": {
   "codemirror_mode": {
    "name": "ipython",
    "version": 3
   },
   "file_extension": ".py",
   "mimetype": "text/x-python",
   "name": "python",
   "nbconvert_exporter": "python",
   "pygments_lexer": "ipython3",
   "version": "3.11.4"
  }
 },
 "nbformat": 4,
 "nbformat_minor": 2
}

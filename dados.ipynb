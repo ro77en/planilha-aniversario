{
 "cells": [
  {
   "cell_type": "markdown",
   "metadata": {},
   "source": [
    "# Geração da Planilha"
   ]
  },
  {
   "cell_type": "code",
   "execution_count": 19,
   "metadata": {},
   "outputs": [],
   "source": [
    "from faker import Faker\n",
    "from faker.providers.date_time import Provider\n",
    "from random import choice\n",
    "import pandas as pd"
   ]
  },
  {
   "cell_type": "code",
   "execution_count": 20,
   "metadata": {},
   "outputs": [
    {
     "data": {
      "text/html": [
       "<div>\n",
       "<style scoped>\n",
       "    .dataframe tbody tr th:only-of-type {\n",
       "        vertical-align: middle;\n",
       "    }\n",
       "\n",
       "    .dataframe tbody tr th {\n",
       "        vertical-align: top;\n",
       "    }\n",
       "\n",
       "    .dataframe thead th {\n",
       "        text-align: right;\n",
       "    }\n",
       "</style>\n",
       "<table border=\"1\" class=\"dataframe\">\n",
       "  <thead>\n",
       "    <tr style=\"text-align: right;\">\n",
       "      <th></th>\n",
       "      <th>NOME</th>\n",
       "      <th>DATA</th>\n",
       "    </tr>\n",
       "  </thead>\n",
       "  <tbody>\n",
       "    <tr>\n",
       "      <th>0</th>\n",
       "      <td>Sophie Peixoto</td>\n",
       "      <td>1972-10-03</td>\n",
       "    </tr>\n",
       "    <tr>\n",
       "      <th>1</th>\n",
       "      <td>Luiz Gustavo Rodrigues</td>\n",
       "      <td>1997-07-22</td>\n",
       "    </tr>\n",
       "    <tr>\n",
       "      <th>2</th>\n",
       "      <td>Lucca Moraes</td>\n",
       "      <td>2009-09-13</td>\n",
       "    </tr>\n",
       "    <tr>\n",
       "      <th>3</th>\n",
       "      <td>Luiz Fernando Cunha</td>\n",
       "      <td>1989-03-07</td>\n",
       "    </tr>\n",
       "    <tr>\n",
       "      <th>4</th>\n",
       "      <td>Vitor Gabriel Castro</td>\n",
       "      <td>2012-01-30</td>\n",
       "    </tr>\n",
       "  </tbody>\n",
       "</table>\n",
       "</div>"
      ],
      "text/plain": [
       "                     NOME        DATA\n",
       "0          Sophie Peixoto  1972-10-03\n",
       "1  Luiz Gustavo Rodrigues  1997-07-22\n",
       "2            Lucca Moraes  2009-09-13\n",
       "3     Luiz Fernando Cunha  1989-03-07\n",
       "4    Vitor Gabriel Castro  2012-01-30"
      ]
     },
     "metadata": {},
     "output_type": "display_data"
    }
   ],
   "source": [
    "def gerar_dataframe(linhas):\n",
    "    \"\"\"\n",
    "    Gera um dicionário com nomes e datas de nascimento aleatórios e os transforma em um DataFrame\n",
    "\n",
    "    Parameters:\n",
    "    linhas (int): Número de linhas que o dataframe terá\n",
    "\n",
    "    Returns:\n",
    "    dataframe (DataFrame)\n",
    "    \"\"\"\n",
    "    Faker.seed(0)\n",
    "    fake = Faker('pt_BR')\n",
    "\n",
    "    planilha = {'NOME': [],\n",
    "                'DATA': []}\n",
    "\n",
    "    for _ in range(linhas):\n",
    "        nome = fake.name()\n",
    "        nasc = fake.date()\n",
    "        \n",
    "        planilha['NOME'].append(nome)\n",
    "        planilha['DATA'].append(nasc)\n",
    "    \n",
    "\n",
    "    df = pd.DataFrame(data=planilha)\n",
    "    return df\n",
    "\n",
    "df = gerar_dataframe(5)\n",
    "display(df)\n",
    "    "
   ]
  },
  {
   "cell_type": "markdown",
   "metadata": {},
   "source": [
    "# Tratando os Dados"
   ]
  },
  {
   "cell_type": "code",
   "execution_count": 21,
   "metadata": {},
   "outputs": [
    {
     "data": {
      "text/plain": [
       "pandas.core.frame.DataFrame"
      ]
     },
     "execution_count": 21,
     "metadata": {},
     "output_type": "execute_result"
    }
   ],
   "source": [
    "type(df)"
   ]
  },
  {
   "cell_type": "code",
   "execution_count": 22,
   "metadata": {},
   "outputs": [
    {
     "name": "stdout",
     "output_type": "stream",
     "text": [
      "<class 'pandas.core.frame.DataFrame'>\n",
      "RangeIndex: 5 entries, 0 to 4\n",
      "Data columns (total 2 columns):\n",
      " #   Column  Non-Null Count  Dtype \n",
      "---  ------  --------------  ----- \n",
      " 0   NOME    5 non-null      object\n",
      " 1   DATA    5 non-null      object\n",
      "dtypes: object(2)\n",
      "memory usage: 212.0+ bytes\n"
     ]
    }
   ],
   "source": [
    "df.info()"
   ]
  },
  {
   "cell_type": "code",
   "execution_count": 23,
   "metadata": {},
   "outputs": [
    {
     "data": {
      "text/plain": [
       "str"
      ]
     },
     "execution_count": 23,
     "metadata": {},
     "output_type": "execute_result"
    }
   ],
   "source": [
    "type( df.iloc[0, 1] )"
   ]
  },
  {
   "cell_type": "code",
   "execution_count": 24,
   "metadata": {},
   "outputs": [
    {
     "data": {
      "text/html": [
       "<div>\n",
       "<style scoped>\n",
       "    .dataframe tbody tr th:only-of-type {\n",
       "        vertical-align: middle;\n",
       "    }\n",
       "\n",
       "    .dataframe tbody tr th {\n",
       "        vertical-align: top;\n",
       "    }\n",
       "\n",
       "    .dataframe thead th {\n",
       "        text-align: right;\n",
       "    }\n",
       "</style>\n",
       "<table border=\"1\" class=\"dataframe\">\n",
       "  <thead>\n",
       "    <tr style=\"text-align: right;\">\n",
       "      <th></th>\n",
       "      <th>NOME</th>\n",
       "      <th>DATA</th>\n",
       "    </tr>\n",
       "  </thead>\n",
       "  <tbody>\n",
       "    <tr>\n",
       "      <th>0</th>\n",
       "      <td>Sophie Peixoto</td>\n",
       "      <td>1972-10-03</td>\n",
       "    </tr>\n",
       "    <tr>\n",
       "      <th>1</th>\n",
       "      <td>Luiz Gustavo Rodrigues</td>\n",
       "      <td>1997-07-22</td>\n",
       "    </tr>\n",
       "    <tr>\n",
       "      <th>2</th>\n",
       "      <td>Lucca Moraes</td>\n",
       "      <td>2009-09-13</td>\n",
       "    </tr>\n",
       "    <tr>\n",
       "      <th>3</th>\n",
       "      <td>Luiz Fernando Cunha</td>\n",
       "      <td>1989-03-07</td>\n",
       "    </tr>\n",
       "    <tr>\n",
       "      <th>4</th>\n",
       "      <td>Vitor Gabriel Castro</td>\n",
       "      <td>2012-01-30</td>\n",
       "    </tr>\n",
       "    <tr>\n",
       "      <th>5</th>\n",
       "      <td>Lucas Maia Dantas</td>\n",
       "      <td>2024-01-25</td>\n",
       "    </tr>\n",
       "  </tbody>\n",
       "</table>\n",
       "</div>"
      ],
      "text/plain": [
       "                     NOME        DATA\n",
       "0          Sophie Peixoto  1972-10-03\n",
       "1  Luiz Gustavo Rodrigues  1997-07-22\n",
       "2            Lucca Moraes  2009-09-13\n",
       "3     Luiz Fernando Cunha  1989-03-07\n",
       "4    Vitor Gabriel Castro  2012-01-30\n",
       "5       Lucas Maia Dantas  2024-01-25"
      ]
     },
     "metadata": {},
     "output_type": "display_data"
    }
   ],
   "source": [
    "df.loc[5] = ['Lucas Maia Dantas', '2024-01-25']\n",
    "df['DATA'] = pd.to_datetime(df['DATA']).dt.date\n",
    "display(df)"
   ]
  },
  {
   "cell_type": "code",
   "execution_count": 25,
   "metadata": {},
   "outputs": [
    {
     "data": {
      "text/html": [
       "<div>\n",
       "<style scoped>\n",
       "    .dataframe tbody tr th:only-of-type {\n",
       "        vertical-align: middle;\n",
       "    }\n",
       "\n",
       "    .dataframe tbody tr th {\n",
       "        vertical-align: top;\n",
       "    }\n",
       "\n",
       "    .dataframe thead th {\n",
       "        text-align: right;\n",
       "    }\n",
       "</style>\n",
       "<table border=\"1\" class=\"dataframe\">\n",
       "  <thead>\n",
       "    <tr style=\"text-align: right;\">\n",
       "      <th></th>\n",
       "      <th>NOME</th>\n",
       "      <th>DATA</th>\n",
       "      <th>EMAIL</th>\n",
       "    </tr>\n",
       "  </thead>\n",
       "  <tbody>\n",
       "    <tr>\n",
       "      <th>0</th>\n",
       "      <td>Sophie Peixoto</td>\n",
       "      <td>1972-10-03</td>\n",
       "      <td>colaborador0@gmail.com</td>\n",
       "    </tr>\n",
       "    <tr>\n",
       "      <th>1</th>\n",
       "      <td>Luiz Gustavo Rodrigues</td>\n",
       "      <td>1997-07-22</td>\n",
       "      <td>colaborador1@gmail.com</td>\n",
       "    </tr>\n",
       "    <tr>\n",
       "      <th>2</th>\n",
       "      <td>Lucca Moraes</td>\n",
       "      <td>2009-09-13</td>\n",
       "      <td>colaborador2@gmail.com</td>\n",
       "    </tr>\n",
       "    <tr>\n",
       "      <th>3</th>\n",
       "      <td>Luiz Fernando Cunha</td>\n",
       "      <td>1989-03-07</td>\n",
       "      <td>colaborador3@gmail.com</td>\n",
       "    </tr>\n",
       "    <tr>\n",
       "      <th>4</th>\n",
       "      <td>Vitor Gabriel Castro</td>\n",
       "      <td>2012-01-30</td>\n",
       "      <td>colaborador4@gmail.com</td>\n",
       "    </tr>\n",
       "    <tr>\n",
       "      <th>5</th>\n",
       "      <td>Lucas Maia Dantas</td>\n",
       "      <td>2024-01-25</td>\n",
       "      <td>colaborador5@gmail.com</td>\n",
       "    </tr>\n",
       "  </tbody>\n",
       "</table>\n",
       "</div>"
      ],
      "text/plain": [
       "                     NOME        DATA                   EMAIL\n",
       "0          Sophie Peixoto  1972-10-03  colaborador0@gmail.com\n",
       "1  Luiz Gustavo Rodrigues  1997-07-22  colaborador1@gmail.com\n",
       "2            Lucca Moraes  2009-09-13  colaborador2@gmail.com\n",
       "3     Luiz Fernando Cunha  1989-03-07  colaborador3@gmail.com\n",
       "4    Vitor Gabriel Castro  2012-01-30  colaborador4@gmail.com\n",
       "5       Lucas Maia Dantas  2024-01-25  colaborador5@gmail.com"
      ]
     },
     "metadata": {},
     "output_type": "display_data"
    }
   ],
   "source": [
    "df['EMAIL'] = [f'colaborador{i}@gmail.com' for i in range( len(df) )]\n",
    "display(df)"
   ]
  },
  {
   "cell_type": "code",
   "execution_count": 26,
   "metadata": {},
   "outputs": [
    {
     "data": {
      "text/html": [
       "<div>\n",
       "<style scoped>\n",
       "    .dataframe tbody tr th:only-of-type {\n",
       "        vertical-align: middle;\n",
       "    }\n",
       "\n",
       "    .dataframe tbody tr th {\n",
       "        vertical-align: top;\n",
       "    }\n",
       "\n",
       "    .dataframe thead th {\n",
       "        text-align: right;\n",
       "    }\n",
       "</style>\n",
       "<table border=\"1\" class=\"dataframe\">\n",
       "  <thead>\n",
       "    <tr style=\"text-align: right;\">\n",
       "      <th></th>\n",
       "      <th>NOME</th>\n",
       "      <th>DATA</th>\n",
       "      <th>EMAIL</th>\n",
       "      <th>SETOR</th>\n",
       "    </tr>\n",
       "  </thead>\n",
       "  <tbody>\n",
       "    <tr>\n",
       "      <th>0</th>\n",
       "      <td>Sophie Peixoto</td>\n",
       "      <td>1972-10-03</td>\n",
       "      <td>colaborador0@gmail.com</td>\n",
       "      <td>CPF FRAUDE</td>\n",
       "    </tr>\n",
       "    <tr>\n",
       "      <th>1</th>\n",
       "      <td>Luiz Gustavo Rodrigues</td>\n",
       "      <td>1997-07-22</td>\n",
       "      <td>colaborador1@gmail.com</td>\n",
       "      <td>CHAT</td>\n",
       "    </tr>\n",
       "    <tr>\n",
       "      <th>2</th>\n",
       "      <td>Lucca Moraes</td>\n",
       "      <td>2009-09-13</td>\n",
       "      <td>colaborador2@gmail.com</td>\n",
       "      <td>CPF FRAUDE</td>\n",
       "    </tr>\n",
       "    <tr>\n",
       "      <th>3</th>\n",
       "      <td>Luiz Fernando Cunha</td>\n",
       "      <td>1989-03-07</td>\n",
       "      <td>colaborador3@gmail.com</td>\n",
       "      <td>CAIXA</td>\n",
       "    </tr>\n",
       "    <tr>\n",
       "      <th>4</th>\n",
       "      <td>Vitor Gabriel Castro</td>\n",
       "      <td>2012-01-30</td>\n",
       "      <td>colaborador4@gmail.com</td>\n",
       "      <td>Aproxime</td>\n",
       "    </tr>\n",
       "    <tr>\n",
       "      <th>5</th>\n",
       "      <td>Lucas Maia Dantas</td>\n",
       "      <td>2024-01-25</td>\n",
       "      <td>colaborador5@gmail.com</td>\n",
       "      <td>DIATE</td>\n",
       "    </tr>\n",
       "  </tbody>\n",
       "</table>\n",
       "</div>"
      ],
      "text/plain": [
       "                     NOME        DATA                   EMAIL       SETOR\n",
       "0          Sophie Peixoto  1972-10-03  colaborador0@gmail.com  CPF FRAUDE\n",
       "1  Luiz Gustavo Rodrigues  1997-07-22  colaborador1@gmail.com        CHAT\n",
       "2            Lucca Moraes  2009-09-13  colaborador2@gmail.com  CPF FRAUDE\n",
       "3     Luiz Fernando Cunha  1989-03-07  colaborador3@gmail.com       CAIXA\n",
       "4    Vitor Gabriel Castro  2012-01-30  colaborador4@gmail.com    Aproxime\n",
       "5       Lucas Maia Dantas  2024-01-25  colaborador5@gmail.com       DIATE"
      ]
     },
     "metadata": {},
     "output_type": "display_data"
    }
   ],
   "source": [
    "setores = ['DIATE',\n",
    "           'CAC',\n",
    "           'CAIXA',\n",
    "           'CHAT',\n",
    "           'APA',\n",
    "           'Aproxime',\n",
    "           'EATRE2',\n",
    "           'Fale Conosco',\n",
    "           'APTA', \n",
    "           'CPF FRAUDE']\n",
    "\n",
    "df['SETOR'] = [choice(setores) for _ in range( len(df) )]\n",
    "display(df)"
   ]
  },
  {
   "cell_type": "code",
   "execution_count": 27,
   "metadata": {},
   "outputs": [
    {
     "name": "stdout",
     "output_type": "stream",
     "text": [
      "Lucas Maia Dantas\n",
      "2024-01-25\n"
     ]
    },
    {
     "data": {
      "text/plain": [
       "datetime.date"
      ]
     },
     "execution_count": 27,
     "metadata": {},
     "output_type": "execute_result"
    }
   ],
   "source": [
    "print( df.iloc[5, 0] )\n",
    "print( df.iloc[5, 1] )\n",
    "type( df.iloc[5, 1] )"
   ]
  },
  {
   "cell_type": "code",
   "execution_count": 28,
   "metadata": {},
   "outputs": [],
   "source": [
    "df.to_pickle('aniversarios.pkl')"
   ]
  }
 ],
 "metadata": {
  "kernelspec": {
   "display_name": "Python 3",
   "language": "python",
   "name": "python3"
  },
  "language_info": {
   "codemirror_mode": {
    "name": "ipython",
    "version": 3
   },
   "file_extension": ".py",
   "mimetype": "text/x-python",
   "name": "python",
   "nbconvert_exporter": "python",
   "pygments_lexer": "ipython3",
   "version": "3.11.4"
  }
 },
 "nbformat": 4,
 "nbformat_minor": 2
}

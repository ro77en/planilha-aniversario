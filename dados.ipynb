{
 "cells": [
  {
   "cell_type": "markdown",
   "metadata": {},
   "source": [
    "# Geração da Planilha"
   ]
  },
  {
   "cell_type": "code",
   "execution_count": 4,
   "metadata": {},
   "outputs": [],
   "source": [
    "from faker import Faker\n",
    "from faker.providers.date_time import Provider\n",
    "import pandas as pd"
   ]
  },
  {
   "cell_type": "code",
   "execution_count": 17,
   "metadata": {},
   "outputs": [
    {
     "name": "stdout",
     "output_type": "stream",
     "text": [
      "{'Sophie Peixoto': '1972-10-03', 'Luiz Gustavo Rodrigues': '1997-07-22', 'Lucca Moraes': '2009-09-13', 'Luiz Fernando Cunha': '1989-03-07', 'Vitor Gabriel Castro': '2012-01-30'}\n"
     ]
    }
   ],
   "source": [
    "def gerar_planilha(linhas):\n",
    "    Faker.seed(0)\n",
    "    fake = Faker('pt_BR')\n",
    "\n",
    "    planilha = {}\n",
    "\n",
    "    for _ in range(linhas):\n",
    "        nome = fake.name()\n",
    "        niver = fake.date()\n",
    "        \n",
    "        planilha[nome] = niver\n",
    "    \n",
    "    return planilha\n",
    "\n",
    "planilha = gerar_planilha(5)\n",
    "print(planilha)\n",
    "    "
   ]
  },
  {
   "cell_type": "code",
   "execution_count": null,
   "metadata": {},
   "outputs": [],
   "source": []
  }
 ],
 "metadata": {
  "kernelspec": {
   "display_name": "Python 3",
   "language": "python",
   "name": "python3"
  },
  "language_info": {
   "codemirror_mode": {
    "name": "ipython",
    "version": 3
   },
   "file_extension": ".py",
   "mimetype": "text/x-python",
   "name": "python",
   "nbconvert_exporter": "python",
   "pygments_lexer": "ipython3",
   "version": "3.11.4"
  }
 },
 "nbformat": 4,
 "nbformat_minor": 2
}
